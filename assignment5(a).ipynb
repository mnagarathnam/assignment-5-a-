{
 "cells": [
  {
   "cell_type": "code",
   "execution_count": null,
   "id": "bb0103c5",
   "metadata": {},
   "outputs": [],
   "source": [
    "#1. Create a dict with your family members(at least 10 names)?\n",
    "#expected output : { \"family_members\" : your family member details}\n",
    "\n"
   ]
  },
  {
   "cell_type": "code",
   "execution_count": 2,
   "id": "c5e43e81",
   "metadata": {},
   "outputs": [
    {
     "data": {
      "text/plain": [
       "{'family_members': ['sunil',\n",
       "  'siri',\n",
       "  'govardan',\n",
       "  'raja',\n",
       "  'samba',\n",
       "  'abi',\n",
       "  'nani',\n",
       "  'nikita',\n",
       "  'devi',\n",
       "  'chinni']}"
      ]
     },
     "execution_count": 2,
     "metadata": {},
     "output_type": "execute_result"
    }
   ],
   "source": [
    "dict={\"family_members\":[\"sunil\",\"siri\",\"govardan\",\"raja\",\"samba\",\"abi\",\"nani\",\"nikita\",\"devi\",\"chinni\"]}\n",
    "dict"
   ]
  },
  {
   "cell_type": "code",
   "execution_count": null,
   "id": "3ca658b9",
   "metadata": {},
   "outputs": [],
   "source": [
    "#2: Create a dict with your family members and relations(at least 10 names and relations)?\n",
    "#Expected output: { \"family_members\" : your family member details , \"relations\": your relation with your family member}\n",
    "#write a program to print your father name?\n",
    "#write a program to print your favorite family member name?"
   ]
  },
  {
   "cell_type": "code",
   "execution_count": 5,
   "id": "08df18f5",
   "metadata": {},
   "outputs": [
    {
     "data": {
      "text/plain": [
       "{'family_members': ['durgarao',\n",
       "  'sunil',\n",
       "  'siri',\n",
       "  'govardan',\n",
       "  'raja',\n",
       "  'samba',\n",
       "  'abi',\n",
       "  'nani',\n",
       "  'nikita',\n",
       "  'devi',\n",
       "  'chinni'],\n",
       " 'relation': ['father', 'husband', 'daughter', 'son', 'brother1', 'brother2']}"
      ]
     },
     "execution_count": 5,
     "metadata": {},
     "output_type": "execute_result"
    }
   ],
   "source": [
    "dict={\"family_members\":[\"durgarao\",\"sunil\",\"siri\",\"govardan\",\"raja\",\"samba\",\"abi\",\"nani\",\"nikita\",\"devi\",\"chinni\"],\"relation\":[\"father\",\"husband\",\"daughter\",\"son\",\"brother1\",\"brother2\"]}\n",
    "dict\n"
   ]
  },
  {
   "cell_type": "code",
   "execution_count": 6,
   "id": "23a58aa0",
   "metadata": {},
   "outputs": [
    {
     "name": "stdout",
     "output_type": "stream",
     "text": [
      "father name is durgarao\n"
     ]
    }
   ],
   "source": [
    "print(\"father name is\",dict[\"family_members\"][0])"
   ]
  },
  {
   "cell_type": "code",
   "execution_count": 7,
   "id": "c007ac02",
   "metadata": {},
   "outputs": [
    {
     "name": "stdout",
     "output_type": "stream",
     "text": [
      "favourate family member name is siri\n"
     ]
    }
   ],
   "source": [
    "print(\"favourate family member name is\",dict[\"family_members\"][2])"
   ]
  },
  {
   "cell_type": "code",
   "execution_count": null,
   "id": "7ba2fb03",
   "metadata": {},
   "outputs": [],
   "source": [
    "#5: Create a your friend names and their quality(at least 10 names)?\n",
    "#Expected output: {\"friend_names\" : your friend names, \"quality\" : your friend quality}\n",
    "#Example output: {\"friend_names\": [\"ravi\",\"shekar\", \"abbas\",\"jhonny\"], \"quality\" : [\"talk active\", \"anger\", \"intelligent\", \"funny\"]}\n",
    "#write a program to print your intelligent friend name?\n",
    "#write a program to print your best friend name?\n"
   ]
  },
  {
   "cell_type": "code",
   "execution_count": 1,
   "id": "d3a02793",
   "metadata": {},
   "outputs": [
    {
     "data": {
      "text/plain": [
       "{'friend_names': ['prasanna',\n",
       "  'swati',\n",
       "  'durga',\n",
       "  'jayasri',\n",
       "  'parvin',\n",
       "  'shabana',\n",
       "  'santosh',\n",
       "  'mouni',\n",
       "  'supraja',\n",
       "  'supriya'],\n",
       " 'quality': ['intilligent',\n",
       "  'funny',\n",
       "  'talk',\n",
       "  'active',\n",
       "  'anger',\n",
       "  'intilligent',\n",
       "  'funny',\n",
       "  'talk',\n",
       "  'active',\n",
       "  'anger']}"
      ]
     },
     "execution_count": 1,
     "metadata": {},
     "output_type": "execute_result"
    }
   ],
   "source": [
    "dict={\"friend_names\":[\"prasanna\",\"swati\",\"durga\",\"jayasri\",\"parvin\",\"shabana\",\"santosh\",\"mouni\",\"supraja\",\"supriya\"],\"quality\":[\"intilligent\",\"funny\",\"talk\", \"active\",\"anger\",\"intilligent\",\"funny\",\"talk\", \"active\",\"anger\"]}\n",
    "dict"
   ]
  },
  {
   "cell_type": "code",
   "execution_count": 2,
   "id": "78e9dcb3",
   "metadata": {},
   "outputs": [
    {
     "name": "stdout",
     "output_type": "stream",
     "text": [
      "intilligent friend name is prasanna\n"
     ]
    }
   ],
   "source": [
    "print(\"intilligent friend name is\",dict[\"friend_names\"][0])"
   ]
  },
  {
   "cell_type": "code",
   "execution_count": 12,
   "id": "99affa03",
   "metadata": {},
   "outputs": [
    {
     "name": "stdout",
     "output_type": "stream",
     "text": [
      "best friend name is mouni\n"
     ]
    }
   ],
   "source": [
    "print(\"best friend name is\",dict[\"friend_names\"][-3])"
   ]
  },
  {
   "cell_type": "code",
   "execution_count": null,
   "id": "afb2834d",
   "metadata": {},
   "outputs": [],
   "source": [
    "#6: Create a your favorite food names and your rating(at least 10 names)?\n",
    "#Expected output: {\"veg_items\" : food names, \"rating\" : your rating}\n",
    "#{\"nonveg_items\" : food names, \"rating\" : your rating}\n",
    "#write a program to print your rating 1 food name?\n"
   ]
  },
  {
   "cell_type": "code",
   "execution_count": 13,
   "id": "9aa3341f",
   "metadata": {},
   "outputs": [
    {
     "data": {
      "text/plain": [
       "{'food names': ['chicken',\n",
       "  'mutton',\n",
       "  'francebiryani',\n",
       "  'fishfry',\n",
       "  'eggfry',\n",
       "  'lemonrice',\n",
       "  'curdrice',\n",
       "  'ladyfingers',\n",
       "  'potato',\n",
       "  'chickenbiryani'],\n",
       " 'rating': [1, 2, 3, 4, 5, 6, 7, 8, 9, 10]}"
      ]
     },
     "execution_count": 13,
     "metadata": {},
     "output_type": "execute_result"
    }
   ],
   "source": [
    "dict={\"food names\":[\"chicken\",\"mutton\",\"francebiryani\",\"fishfry\",\"eggfry\",\"lemonrice\",\"curdrice\",\"ladyfingers\",\"potato\",\"chickenbiryani\"],\"rating\":[1,2,3,4,5,6,7,8,9,10]}\n",
    "dict"
   ]
  },
  {
   "cell_type": "code",
   "execution_count": 14,
   "id": "5027a639",
   "metadata": {},
   "outputs": [
    {
     "name": "stdout",
     "output_type": "stream",
     "text": [
      "veg_items curdrice\n"
     ]
    }
   ],
   "source": [
    "print(\"veg_items\",dict[\"food names\"][6])"
   ]
  },
  {
   "cell_type": "code",
   "execution_count": 15,
   "id": "eaff2865",
   "metadata": {},
   "outputs": [
    {
     "name": "stdout",
     "output_type": "stream",
     "text": [
      "nonveg_items francebiryani\n"
     ]
    }
   ],
   "source": [
    "print(\"nonveg_items\",dict[\"food names\"][2])"
   ]
  },
  {
   "cell_type": "code",
   "execution_count": 17,
   "id": "a7f759e3",
   "metadata": {},
   "outputs": [
    {
     "name": "stdout",
     "output_type": "stream",
     "text": [
      "rating1 food name is mutton\n"
     ]
    }
   ],
   "source": [
    "print(\"rating1 food name is\",dict[\"food names\"][1])"
   ]
  },
  {
   "cell_type": "code",
   "execution_count": null,
   "id": "91ae608d",
   "metadata": {},
   "outputs": [],
   "source": [
    "#8: Create a your favorite destination(cities) names and your rating(at least 10 names)?\n",
    "#Expected output: {\"destination\" : cities name, \"rating\" : your rating}\n",
    "#write a program to print your rating 3 city name?"
   ]
  },
  {
   "cell_type": "code",
   "execution_count": 2,
   "id": "9f457049",
   "metadata": {},
   "outputs": [
    {
     "data": {
      "text/plain": [
       "{'destination': ['vijayawada',\n",
       "  'mtm',\n",
       "  'guntur',\n",
       "  'vizag',\n",
       "  'hyd',\n",
       "  'hjunction',\n",
       "  'tirupati',\n",
       "  'kammam',\n",
       "  'ongole',\n",
       "  'karnataka'],\n",
       " 'ratings': [1, 2, 3, 4, 5, 6, 7, 8, 9, 10]}"
      ]
     },
     "execution_count": 2,
     "metadata": {},
     "output_type": "execute_result"
    }
   ],
   "source": [
    "dict={\"destination\":['vijayawada','mtm','guntur','vizag','hyd','hjunction','tirupati','kammam','ongole','karnataka'],\"ratings\":[1,2,3,4,5,6,7,8,9,10]}\n",
    "dict"
   ]
  },
  {
   "cell_type": "code",
   "execution_count": 3,
   "id": "71878cf2",
   "metadata": {},
   "outputs": [
    {
     "name": "stdout",
     "output_type": "stream",
     "text": [
      "rating1 city name is hyd\n"
     ]
    }
   ],
   "source": [
    "print(\"rating1 city name is\",dict[\"destination\"][4])"
   ]
  },
  {
   "cell_type": "code",
   "execution_count": 5,
   "id": "7734936e",
   "metadata": {},
   "outputs": [
    {
     "name": "stdout",
     "output_type": "stream",
     "text": [
      "rating2 city name is mtm\n"
     ]
    }
   ],
   "source": [
    "print(\"rating2 city name is\",dict[\"destination\"][1])"
   ]
  },
  {
   "cell_type": "code",
   "execution_count": 6,
   "id": "1e618f4f",
   "metadata": {},
   "outputs": [
    {
     "name": "stdout",
     "output_type": "stream",
     "text": [
      "rating3 city name is vizag\n"
     ]
    }
   ],
   "source": [
    "print(\"rating3 city name is\",dict[\"destination\"][3])"
   ]
  },
  {
   "cell_type": "code",
   "execution_count": null,
   "id": "eddaa99c",
   "metadata": {},
   "outputs": [],
   "source": []
  }
 ],
 "metadata": {
  "kernelspec": {
   "display_name": "Python 3 (ipykernel)",
   "language": "python",
   "name": "python3"
  },
  "language_info": {
   "codemirror_mode": {
    "name": "ipython",
    "version": 3
   },
   "file_extension": ".py",
   "mimetype": "text/x-python",
   "name": "python",
   "nbconvert_exporter": "python",
   "pygments_lexer": "ipython3",
   "version": "3.10.9"
  }
 },
 "nbformat": 4,
 "nbformat_minor": 5
}
