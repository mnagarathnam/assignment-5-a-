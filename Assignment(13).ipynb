{
 "cells": [
  {
   "cell_type": "code",
   "execution_count": null,
   "id": "83a4d94b",
   "metadata": {},
   "outputs": [],
   "source": [
    "Task: create a program\n",
    "Q1>Create and import file\n",
    "1. Create schoolmets and collegements friends_names.xls file and import file in spyder (atleast 10 names, columns are FriendName,Quality) ,\n",
    "2. Summarize data by quality wise no.of friends .\n",
    "Example: quality | no.of freind\n",
    "\t\t\tfunny | 2\n",
    "\n",
    "Q2>Create and import file\n",
    "1. Create boys Boysfriend_names.xls file and import file in spyder (atleast 10 names, columns are FriendName,Quality)  \n",
    "2. Summarize data by quality wise no.of friends .\n",
    "3. Create girls Girlsfriend_names.xls file  and import file in spyder (atleast 10 names, columns are FriendName,Quality) \n",
    "4. Summarize data by quality wise no.of friends .\n",
    "\n",
    "\n",
    "Q3>Create and import file\n",
    "1. Create a father side fatherfamily_members.xls file and import file in spyder  (atleast 5 names, columns are FamilyMemberName*Relation)\n",
    "2. Summarize data by relation wise no.of familymembers .\n",
    "3. Create a mother side montherfamily_members.xls file and import file in spyder  (atleast 5 names, columns are FamilyMemberName*Relation)\n",
    "4. Summarize data by relation wise no.of familymembers .\n",
    "\n",
    "\n",
    "Q4>Create and import file\n",
    "1. Create a Dal related  dal_items.xlsx file and import file in spyder (atleast 5 names, columns are VegFoodName*Taste)\n",
    "2. Summarize data by taste wise no.of fooditems.\n",
    "3. Create a vegitable related  vegitable_items.xlsx file and import file in spyder (atleast 5 names, columns are VegFoodName*Taste)\n",
    "4. Summarize data by taste wise no.of fooditems.\n",
    "\n",
    "\n",
    "Q5>Create and import file\n",
    "1. Create a soups related  soups_items.xlsx file and import file in spyder (atleast 5 names, columns are soups*Taste)\n",
    "2. Summarize data by taste wise no.of fooditems.\n",
    "3. Create a fry related  fry_items.xlsx file and import file in spyder (atleast 5 names, columns are fry*Taste)\n",
    "4. Summarize data by taste wise no.of fooditems.\n",
    "\n",
    "\n",
    "Q6>Create and import file\n",
    "1. Create a Chicken related chicken_items.xlsx file and import file in spyder (atleast 5 names, columns are NonVegFoodName*Taste)\n",
    "2. Summarize data by taste wise no.of fooditems.\n",
    "3. Create a mutton related mutton_items.xlsx file and import file in spyder (atleast 5 names, columns are NonVegFoodName*Taste)\n",
    "4. Summarize data by taste wise no.of fooditems.\n",
    "\n",
    "\n",
    "\n",
    "Q7>Create and import file\n",
    "1. Create a winter season  winterseason_names.xlsx file and import file in spyder  (atleast 2 names, columns are MonthName*Season)\n",
    "2. Summarize data by Season wise no.of months.\n",
    "3. Create a summer season  summerseason_names.xlsx file and import file in spyder  (atleast 2 names, columns are MonthName*Season)\n",
    "4. Summarize data by Season wise no.of months.\n",
    "5. Create a rainy season  rainyseason_names.xlsx file and import file in spyder  (atleast 2 names, columns are MonthName*Season)\n",
    "6. Summarize data by Season wise no.of months.\n",
    "\n",
    "\n",
    ">Create and import file\n",
    "1. Create a red colour flowers redflowers_names.xlsx file and import file in spyder   (atleast 3 names, columns are FlowerName*color)\n",
    "2. Summarize data by color wise no.of flowers.\n",
    "3. Create a white colour flowers whiteflowers_names.xlsx file  and import file in spyder  (atleast 3 names, columns are FlowerName*color)\n",
    "4. Summarize data by color wise no.of flowers.\n",
    "5. Create a pink colour flowers whiteflowers_names.xlsx file and import file in spyder   (atleast 3 names, columns are FlowerName*color)\n",
    "6. Summarize data by color wise no.of flowers.\n",
    "7. Create a yellow colour flowers whiteflowers_names.xlsx file and import file in spyder   (atleast 3 names, columns are FlowerName*color)\n",
    "8. Summarize data by color wise no.of flowers.\n",
    "\n",
    "\n"
   ]
  },
  {
   "cell_type": "code",
   "execution_count": null,
   "id": "188a7cde",
   "metadata": {},
   "outputs": [],
   "source": [
    "#Q1>Create and import file\n",
    "#1. Create schoolmets and collegements friends_names.xls file and import file in spyder (atleast 10 names, columns are FriendName,Quality) ,\n",
    "#2. Summarize data by quality wise no.of friends .\n",
    "#Example: quality | no.of freind\n",
    "#\t\t\tfunny | 2\n"
   ]
  },
  {
   "cell_type": "code",
   "execution_count": 1,
   "id": "973cf98e",
   "metadata": {},
   "outputs": [
    {
     "data": {
      "text/html": [
       "<div>\n",
       "<style scoped>\n",
       "    .dataframe tbody tr th:only-of-type {\n",
       "        vertical-align: middle;\n",
       "    }\n",
       "\n",
       "    .dataframe tbody tr th {\n",
       "        vertical-align: top;\n",
       "    }\n",
       "\n",
       "    .dataframe thead th {\n",
       "        text-align: right;\n",
       "    }\n",
       "</style>\n",
       "<table border=\"1\" class=\"dataframe\">\n",
       "  <thead>\n",
       "    <tr style=\"text-align: right;\">\n",
       "      <th></th>\n",
       "      <th>Friends names</th>\n",
       "      <th>Quality</th>\n",
       "    </tr>\n",
       "  </thead>\n",
       "  <tbody>\n",
       "    <tr>\n",
       "      <th>0</th>\n",
       "      <td>ch.bhavani</td>\n",
       "      <td>silent</td>\n",
       "    </tr>\n",
       "    <tr>\n",
       "      <th>1</th>\n",
       "      <td>d.bhavani</td>\n",
       "      <td>voilent</td>\n",
       "    </tr>\n",
       "    <tr>\n",
       "      <th>2</th>\n",
       "      <td>durga</td>\n",
       "      <td>innocent</td>\n",
       "    </tr>\n",
       "    <tr>\n",
       "      <th>3</th>\n",
       "      <td>rani</td>\n",
       "      <td>clever</td>\n",
       "    </tr>\n",
       "    <tr>\n",
       "      <th>4</th>\n",
       "      <td>pavani</td>\n",
       "      <td>stylish</td>\n",
       "    </tr>\n",
       "    <tr>\n",
       "      <th>5</th>\n",
       "      <td>chendu</td>\n",
       "      <td>intilligent</td>\n",
       "    </tr>\n",
       "  </tbody>\n",
       "</table>\n",
       "</div>"
      ],
      "text/plain": [
       "  Friends names      Quality\n",
       "0    ch.bhavani       silent\n",
       "1     d.bhavani      voilent\n",
       "2         durga     innocent\n",
       "3          rani       clever\n",
       "4        pavani      stylish\n",
       "5        chendu  intilligent"
      ]
     },
     "execution_count": 1,
     "metadata": {},
     "output_type": "execute_result"
    }
   ],
   "source": [
    "import pandas\n",
    "import pandas as pd\n",
    "df=pd.read_excel(r\"D:\\Bujji\\schoolmets_names.xlsx\")\n",
    "df"
   ]
  },
  {
   "cell_type": "code",
   "execution_count": 2,
   "id": "b049d39b",
   "metadata": {},
   "outputs": [
    {
     "data": {
      "text/plain": [
       "array(['silent', 'voilent', 'innocent', 'clever', 'stylish',\n",
       "       'intilligent'], dtype=object)"
      ]
     },
     "execution_count": 2,
     "metadata": {},
     "output_type": "execute_result"
    }
   ],
   "source": [
    "df.Quality.unique()"
   ]
  },
  {
   "cell_type": "code",
   "execution_count": 3,
   "id": "33dac4a1",
   "metadata": {},
   "outputs": [
    {
     "data": {
      "text/plain": [
       "Quality\n",
       "clever         1\n",
       "innocent       1\n",
       "intilligent    1\n",
       "silent         1\n",
       "stylish        1\n",
       "voilent        1\n",
       "Name: Friends names, dtype: int64"
      ]
     },
     "execution_count": 3,
     "metadata": {},
     "output_type": "execute_result"
    }
   ],
   "source": [
    "df.groupby('Quality')['Friends names'].count()"
   ]
  },
  {
   "cell_type": "code",
   "execution_count": 4,
   "id": "dd415725",
   "metadata": {},
   "outputs": [
    {
     "data": {
      "text/html": [
       "<div>\n",
       "<style scoped>\n",
       "    .dataframe tbody tr th:only-of-type {\n",
       "        vertical-align: middle;\n",
       "    }\n",
       "\n",
       "    .dataframe tbody tr th {\n",
       "        vertical-align: top;\n",
       "    }\n",
       "\n",
       "    .dataframe thead th {\n",
       "        text-align: right;\n",
       "    }\n",
       "</style>\n",
       "<table border=\"1\" class=\"dataframe\">\n",
       "  <thead>\n",
       "    <tr style=\"text-align: right;\">\n",
       "      <th></th>\n",
       "      <th>Friends names</th>\n",
       "      <th>Qualification</th>\n",
       "      <th>Quality</th>\n",
       "    </tr>\n",
       "  </thead>\n",
       "  <tbody>\n",
       "    <tr>\n",
       "      <th>0</th>\n",
       "      <td>prasanna</td>\n",
       "      <td>b_tech</td>\n",
       "      <td>clever</td>\n",
       "    </tr>\n",
       "    <tr>\n",
       "      <th>1</th>\n",
       "      <td>swathi</td>\n",
       "      <td>bsc</td>\n",
       "      <td>intiligent</td>\n",
       "    </tr>\n",
       "    <tr>\n",
       "      <th>2</th>\n",
       "      <td>jayasri</td>\n",
       "      <td>b_tech</td>\n",
       "      <td>clever</td>\n",
       "    </tr>\n",
       "    <tr>\n",
       "      <th>3</th>\n",
       "      <td>durga</td>\n",
       "      <td>bsc</td>\n",
       "      <td>intilligent</td>\n",
       "    </tr>\n",
       "    <tr>\n",
       "      <th>4</th>\n",
       "      <td>nasheena</td>\n",
       "      <td>b_tech</td>\n",
       "      <td>clever</td>\n",
       "    </tr>\n",
       "    <tr>\n",
       "      <th>5</th>\n",
       "      <td>mallika</td>\n",
       "      <td>mpc</td>\n",
       "      <td>stylish</td>\n",
       "    </tr>\n",
       "    <tr>\n",
       "      <th>6</th>\n",
       "      <td>tuskaru</td>\n",
       "      <td>bsc</td>\n",
       "      <td>silent</td>\n",
       "    </tr>\n",
       "    <tr>\n",
       "      <th>7</th>\n",
       "      <td>shamshad</td>\n",
       "      <td>bsc</td>\n",
       "      <td>interactive</td>\n",
       "    </tr>\n",
       "    <tr>\n",
       "      <th>8</th>\n",
       "      <td>rahamatha</td>\n",
       "      <td>bsc</td>\n",
       "      <td>intiligent</td>\n",
       "    </tr>\n",
       "    <tr>\n",
       "      <th>9</th>\n",
       "      <td>santhosh</td>\n",
       "      <td>b_tech</td>\n",
       "      <td>clever</td>\n",
       "    </tr>\n",
       "  </tbody>\n",
       "</table>\n",
       "</div>"
      ],
      "text/plain": [
       "  Friends names Qualification      Quality\n",
       "0      prasanna        b_tech       clever\n",
       "1        swathi           bsc   intiligent\n",
       "2       jayasri        b_tech       clever\n",
       "3         durga           bsc  intilligent\n",
       "4      nasheena        b_tech       clever\n",
       "5       mallika           mpc      stylish\n",
       "6       tuskaru           bsc       silent\n",
       "7      shamshad           bsc  interactive\n",
       "8     rahamatha           bsc   intiligent\n",
       "9      santhosh        b_tech       clever"
      ]
     },
     "execution_count": 4,
     "metadata": {},
     "output_type": "execute_result"
    }
   ],
   "source": [
    "import pandas\n",
    "import pandas as pd\n",
    "df1=pd.read_excel(r\"D:\\Bujji\\friends_names.xlsx\")\n",
    "df1"
   ]
  },
  {
   "cell_type": "code",
   "execution_count": 6,
   "id": "d19ddab6",
   "metadata": {
    "scrolled": true
   },
   "outputs": [
    {
     "data": {
      "text/plain": [
       "Quality      Friends names\n",
       "clever       jayasri          1\n",
       "             nasheena         1\n",
       "             prasanna         1\n",
       "             santhosh         1\n",
       "interactive  shamshad         1\n",
       "intiligent   rahamatha        1\n",
       "             swathi           1\n",
       "intilligent  durga            1\n",
       "silent       tuskaru          1\n",
       "stylish      mallika          1\n",
       "Name: Qualification, dtype: int64"
      ]
     },
     "execution_count": 6,
     "metadata": {},
     "output_type": "execute_result"
    }
   ],
   "source": [
    "df1.groupby(['Quality','Friends names'])['Qualification'].count()"
   ]
  },
  {
   "cell_type": "code",
   "execution_count": null,
   "id": "e017a04b",
   "metadata": {},
   "outputs": [],
   "source": [
    "#Q2>Create and import file\n",
    "#1. Create boys Boysfriend_names.xls file and import file in spyder (atleast 10 names, columns are FriendName,Quality)  \n",
    "#2. Summarize data by quality wise no.of friends .\n",
    "#3. Create girls Girlsfriend_names.xls file  and import file in spyder (atleast 10 names, columns are FriendName,Quality) \n",
    "#4. Summarize data by quality wise no.of friends .\n"
   ]
  },
  {
   "cell_type": "code",
   "execution_count": null,
   "id": "7e64048f",
   "metadata": {},
   "outputs": [],
   "source": []
  },
  {
   "cell_type": "code",
   "execution_count": null,
   "id": "675381be",
   "metadata": {},
   "outputs": [],
   "source": [
    "#Q3>Create and import file\n",
    "#1. Create a father side fatherfamily_members.xls file and import file in spyder  (atleast 5 names, columns are FamilyMemberName*Relation)\n",
    "#2. Summarize data by relation wise no.of familymembers .\n",
    "#3. Create a mother side montherfamily_members.xls file and import file in spyder  (atleast 5 names, columns are FamilyMemberName*Relation)\n",
    "#4. Summarize data by relation wise no.of familymembers .\n"
   ]
  },
  {
   "cell_type": "code",
   "execution_count": 8,
   "id": "fed04086",
   "metadata": {},
   "outputs": [
    {
     "data": {
      "text/html": [
       "<div>\n",
       "<style scoped>\n",
       "    .dataframe tbody tr th:only-of-type {\n",
       "        vertical-align: middle;\n",
       "    }\n",
       "\n",
       "    .dataframe tbody tr th {\n",
       "        vertical-align: top;\n",
       "    }\n",
       "\n",
       "    .dataframe thead th {\n",
       "        text-align: right;\n",
       "    }\n",
       "</style>\n",
       "<table border=\"1\" class=\"dataframe\">\n",
       "  <thead>\n",
       "    <tr style=\"text-align: right;\">\n",
       "      <th></th>\n",
       "      <th>names</th>\n",
       "      <th>Relation</th>\n",
       "    </tr>\n",
       "  </thead>\n",
       "  <tbody>\n",
       "    <tr>\n",
       "      <th>0</th>\n",
       "      <td>siva parvathi</td>\n",
       "      <td>mother</td>\n",
       "    </tr>\n",
       "    <tr>\n",
       "      <th>1</th>\n",
       "      <td>anjali</td>\n",
       "      <td>pinni</td>\n",
       "    </tr>\n",
       "    <tr>\n",
       "      <th>2</th>\n",
       "      <td>seeta</td>\n",
       "      <td>akka</td>\n",
       "    </tr>\n",
       "    <tr>\n",
       "      <th>3</th>\n",
       "      <td>meghana</td>\n",
       "      <td>menakodalu</td>\n",
       "    </tr>\n",
       "    <tr>\n",
       "      <th>4</th>\n",
       "      <td>lasya</td>\n",
       "      <td>daughter</td>\n",
       "    </tr>\n",
       "    <tr>\n",
       "      <th>5</th>\n",
       "      <td>srinu</td>\n",
       "      <td>brother</td>\n",
       "    </tr>\n",
       "    <tr>\n",
       "      <th>6</th>\n",
       "      <td>subbarao</td>\n",
       "      <td>mavayya</td>\n",
       "    </tr>\n",
       "  </tbody>\n",
       "</table>\n",
       "</div>"
      ],
      "text/plain": [
       "           names    Relation\n",
       "0  siva parvathi      mother\n",
       "1         anjali       pinni\n",
       "2          seeta        akka\n",
       "3        meghana  menakodalu\n",
       "4          lasya    daughter\n",
       "5          srinu     brother\n",
       "6       subbarao     mavayya"
      ]
     },
     "execution_count": 8,
     "metadata": {},
     "output_type": "execute_result"
    }
   ],
   "source": [
    "import pandas\n",
    "import pandas as pd\n",
    "M1=pd.read_excel(r\"C:\\Users\\hp\\OneDrive\\Documents\\Downloads\\Mother side family (1).xlsx\")\n",
    "M1"
   ]
  },
  {
   "cell_type": "code",
   "execution_count": 9,
   "id": "036e2213",
   "metadata": {},
   "outputs": [
    {
     "data": {
      "text/plain": [
       "Relation\n",
       "akka          1\n",
       "brother       1\n",
       "daughter      1\n",
       "mavayya       1\n",
       "menakodalu    1\n",
       "mother        1\n",
       "pinni         1\n",
       "Name: names, dtype: int64"
      ]
     },
     "execution_count": 9,
     "metadata": {},
     "output_type": "execute_result"
    }
   ],
   "source": [
    "M1.groupby('Relation')['names'].count()"
   ]
  },
  {
   "cell_type": "code",
   "execution_count": 10,
   "id": "291502e3",
   "metadata": {},
   "outputs": [
    {
     "data": {
      "text/html": [
       "<div>\n",
       "<style scoped>\n",
       "    .dataframe tbody tr th:only-of-type {\n",
       "        vertical-align: middle;\n",
       "    }\n",
       "\n",
       "    .dataframe tbody tr th {\n",
       "        vertical-align: top;\n",
       "    }\n",
       "\n",
       "    .dataframe thead th {\n",
       "        text-align: right;\n",
       "    }\n",
       "</style>\n",
       "<table border=\"1\" class=\"dataframe\">\n",
       "  <thead>\n",
       "    <tr style=\"text-align: right;\">\n",
       "      <th></th>\n",
       "      <th>Names</th>\n",
       "      <th>Relation</th>\n",
       "    </tr>\n",
       "  </thead>\n",
       "  <tbody>\n",
       "    <tr>\n",
       "      <th>0</th>\n",
       "      <td>durga rao</td>\n",
       "      <td>father</td>\n",
       "    </tr>\n",
       "    <tr>\n",
       "      <th>1</th>\n",
       "      <td>ramaswamy</td>\n",
       "      <td>peddananna</td>\n",
       "    </tr>\n",
       "    <tr>\n",
       "      <th>2</th>\n",
       "      <td>prasad</td>\n",
       "      <td>babayi</td>\n",
       "    </tr>\n",
       "    <tr>\n",
       "      <th>3</th>\n",
       "      <td>venkat</td>\n",
       "      <td>cousin</td>\n",
       "    </tr>\n",
       "    <tr>\n",
       "      <th>4</th>\n",
       "      <td>samba</td>\n",
       "      <td>brother</td>\n",
       "    </tr>\n",
       "    <tr>\n",
       "      <th>5</th>\n",
       "      <td>raja</td>\n",
       "      <td>younger brother</td>\n",
       "    </tr>\n",
       "  </tbody>\n",
       "</table>\n",
       "</div>"
      ],
      "text/plain": [
       "       Names         Relation\n",
       "0  durga rao           father\n",
       "1  ramaswamy       peddananna\n",
       "2     prasad           babayi\n",
       "3     venkat           cousin\n",
       "4      samba          brother\n",
       "5       raja  younger brother"
      ]
     },
     "execution_count": 10,
     "metadata": {},
     "output_type": "execute_result"
    }
   ],
   "source": [
    "F1=pd.read_excel(r\"C:\\Users\\hp\\OneDrive\\Documents\\Downloads\\Fatherside_family.xlsx\",sheet_name=\"Sheet2\")\n",
    "F1"
   ]
  },
  {
   "cell_type": "code",
   "execution_count": 11,
   "id": "4a63f5e0",
   "metadata": {},
   "outputs": [
    {
     "data": {
      "text/plain": [
       "Relation\n",
       "babayi             1\n",
       "brother            1\n",
       "cousin             1\n",
       "father             1\n",
       "peddananna         1\n",
       "younger brother    1\n",
       "Name: Names, dtype: int64"
      ]
     },
     "execution_count": 11,
     "metadata": {},
     "output_type": "execute_result"
    }
   ],
   "source": [
    "F1.groupby('Relation')['Names'].count()"
   ]
  },
  {
   "cell_type": "code",
   "execution_count": null,
   "id": "d0e5a22a",
   "metadata": {},
   "outputs": [],
   "source": [
    "#Q4>Create and import file\n",
    "#1. Create a Dal related  dal_items.xlsx file and import file in spyder (atleast 5 names, columns are VegFoodName*Taste)\n",
    "#2. Summarize data by taste wise no.of fooditems.\n",
    "#3. Create a vegitable related  vegitable_items.xlsx file and import file in spyder (atleast 5 names, columns are VegFoodName*Taste)\n",
    "#4. Summarize data by taste wise no.of fooditems.\n"
   ]
  },
  {
   "cell_type": "code",
   "execution_count": 2,
   "id": "e357ea8d",
   "metadata": {},
   "outputs": [
    {
     "data": {
      "text/html": [
       "<div>\n",
       "<style scoped>\n",
       "    .dataframe tbody tr th:only-of-type {\n",
       "        vertical-align: middle;\n",
       "    }\n",
       "\n",
       "    .dataframe tbody tr th {\n",
       "        vertical-align: top;\n",
       "    }\n",
       "\n",
       "    .dataframe thead th {\n",
       "        text-align: right;\n",
       "    }\n",
       "</style>\n",
       "<table border=\"1\" class=\"dataframe\">\n",
       "  <thead>\n",
       "    <tr style=\"text-align: right;\">\n",
       "      <th></th>\n",
       "      <th>veg_food_names</th>\n",
       "      <th>Taste</th>\n",
       "    </tr>\n",
       "  </thead>\n",
       "  <tbody>\n",
       "    <tr>\n",
       "      <th>0</th>\n",
       "      <td>tomato dal</td>\n",
       "      <td>good</td>\n",
       "    </tr>\n",
       "    <tr>\n",
       "      <th>1</th>\n",
       "      <td>sambar</td>\n",
       "      <td>super</td>\n",
       "    </tr>\n",
       "    <tr>\n",
       "      <th>2</th>\n",
       "      <td>cabbage dal</td>\n",
       "      <td>average</td>\n",
       "    </tr>\n",
       "    <tr>\n",
       "      <th>3</th>\n",
       "      <td>ridge gourd dal</td>\n",
       "      <td>super</td>\n",
       "    </tr>\n",
       "    <tr>\n",
       "      <th>4</th>\n",
       "      <td>gongura dal</td>\n",
       "      <td>good</td>\n",
       "    </tr>\n",
       "  </tbody>\n",
       "</table>\n",
       "</div>"
      ],
      "text/plain": [
       "    veg_food_names    Taste\n",
       "0       tomato dal     good\n",
       "1           sambar    super\n",
       "2      cabbage dal  average\n",
       "3  ridge gourd dal    super\n",
       "4      gongura dal     good"
      ]
     },
     "execution_count": 2,
     "metadata": {},
     "output_type": "execute_result"
    }
   ],
   "source": [
    "import pandas\n",
    "import pandas as pd\n",
    "dal=pd.read_excel(r\"D:\\Bujji\\dal_items.xlsx\")\n",
    "dal"
   ]
  },
  {
   "cell_type": "code",
   "execution_count": 3,
   "id": "30332506",
   "metadata": {},
   "outputs": [
    {
     "data": {
      "text/plain": [
       "Taste\n",
       "average    1\n",
       "good       2\n",
       "super      2\n",
       "Name: veg_food_names, dtype: int64"
      ]
     },
     "execution_count": 3,
     "metadata": {},
     "output_type": "execute_result"
    }
   ],
   "source": [
    "dal.groupby('Taste')['veg_food_names'].count()"
   ]
  },
  {
   "cell_type": "code",
   "execution_count": 4,
   "id": "96802060",
   "metadata": {},
   "outputs": [
    {
     "data": {
      "text/html": [
       "<div>\n",
       "<style scoped>\n",
       "    .dataframe tbody tr th:only-of-type {\n",
       "        vertical-align: middle;\n",
       "    }\n",
       "\n",
       "    .dataframe tbody tr th {\n",
       "        vertical-align: top;\n",
       "    }\n",
       "\n",
       "    .dataframe thead th {\n",
       "        text-align: right;\n",
       "    }\n",
       "</style>\n",
       "<table border=\"1\" class=\"dataframe\">\n",
       "  <thead>\n",
       "    <tr style=\"text-align: right;\">\n",
       "      <th></th>\n",
       "      <th>veg food_items</th>\n",
       "      <th>Taste</th>\n",
       "    </tr>\n",
       "  </thead>\n",
       "  <tbody>\n",
       "    <tr>\n",
       "      <th>0</th>\n",
       "      <td>lady fingers fry</td>\n",
       "      <td>super</td>\n",
       "    </tr>\n",
       "    <tr>\n",
       "      <th>1</th>\n",
       "      <td>alu fry</td>\n",
       "      <td>average</td>\n",
       "    </tr>\n",
       "    <tr>\n",
       "      <th>2</th>\n",
       "      <td>brinjal curry</td>\n",
       "      <td>good</td>\n",
       "    </tr>\n",
       "    <tr>\n",
       "      <th>3</th>\n",
       "      <td>mushroooms curry</td>\n",
       "      <td>super</td>\n",
       "    </tr>\n",
       "    <tr>\n",
       "      <th>4</th>\n",
       "      <td>drumstick curry</td>\n",
       "      <td>good</td>\n",
       "    </tr>\n",
       "  </tbody>\n",
       "</table>\n",
       "</div>"
      ],
      "text/plain": [
       "     veg food_items    Taste\n",
       "0  lady fingers fry    super\n",
       "1           alu fry  average\n",
       "2     brinjal curry     good\n",
       "3  mushroooms curry    super\n",
       "4   drumstick curry     good"
      ]
     },
     "execution_count": 4,
     "metadata": {},
     "output_type": "execute_result"
    }
   ],
   "source": [
    "veg=pd.read_excel(r\"D:\\Bujji\\dal_items.xlsx\",sheet_name='Sheet2')\n",
    "veg"
   ]
  },
  {
   "cell_type": "code",
   "execution_count": 5,
   "id": "4b5505c1",
   "metadata": {},
   "outputs": [
    {
     "data": {
      "text/plain": [
       "Taste\n",
       "average    1\n",
       "good       2\n",
       "super      2\n",
       "Name: veg food_items, dtype: int64"
      ]
     },
     "execution_count": 5,
     "metadata": {},
     "output_type": "execute_result"
    }
   ],
   "source": [
    "veg.groupby('Taste')['veg food_items'].count()"
   ]
  },
  {
   "cell_type": "code",
   "execution_count": null,
   "id": "9a7a8207",
   "metadata": {},
   "outputs": [],
   "source": [
    "#Q5>Create and import file\n",
    "#1. Create a soups related  soups_items.xlsx file and import file in spyder (atleast 5 names, columns are soups*Taste)\n",
    "#2. Summarize data by taste wise no.of fooditems.\n",
    "#3. Create a fry related  fry_items.xlsx file and import file in spyder (atleast 5 names, columns are fry*Taste)\n",
    "#4. Summarize data by taste wise no.of fooditems.\n"
   ]
  },
  {
   "cell_type": "code",
   "execution_count": 6,
   "id": "d94c21fa",
   "metadata": {},
   "outputs": [
    {
     "data": {
      "text/html": [
       "<div>\n",
       "<style scoped>\n",
       "    .dataframe tbody tr th:only-of-type {\n",
       "        vertical-align: middle;\n",
       "    }\n",
       "\n",
       "    .dataframe tbody tr th {\n",
       "        vertical-align: top;\n",
       "    }\n",
       "\n",
       "    .dataframe thead th {\n",
       "        text-align: right;\n",
       "    }\n",
       "</style>\n",
       "<table border=\"1\" class=\"dataframe\">\n",
       "  <thead>\n",
       "    <tr style=\"text-align: right;\">\n",
       "      <th></th>\n",
       "      <th>soup items</th>\n",
       "      <th>Taste</th>\n",
       "    </tr>\n",
       "  </thead>\n",
       "  <tbody>\n",
       "    <tr>\n",
       "      <th>0</th>\n",
       "      <td>beans soup</td>\n",
       "      <td>good</td>\n",
       "    </tr>\n",
       "    <tr>\n",
       "      <th>1</th>\n",
       "      <td>tomoto soup</td>\n",
       "      <td>super</td>\n",
       "    </tr>\n",
       "    <tr>\n",
       "      <th>2</th>\n",
       "      <td>pumpkin soup</td>\n",
       "      <td>average</td>\n",
       "    </tr>\n",
       "    <tr>\n",
       "      <th>3</th>\n",
       "      <td>french onion soup</td>\n",
       "      <td>good</td>\n",
       "    </tr>\n",
       "    <tr>\n",
       "      <th>4</th>\n",
       "      <td>chicken soup</td>\n",
       "      <td>super</td>\n",
       "    </tr>\n",
       "  </tbody>\n",
       "</table>\n",
       "</div>"
      ],
      "text/plain": [
       "          soup items    Taste\n",
       "0         beans soup     good\n",
       "1        tomoto soup    super\n",
       "2       pumpkin soup  average\n",
       "3  french onion soup     good\n",
       "4       chicken soup    super"
      ]
     },
     "execution_count": 6,
     "metadata": {},
     "output_type": "execute_result"
    }
   ],
   "source": [
    "import pandas\n",
    "import pandas as pd\n",
    "soups=pd.read_excel(r\"D:\\Bujji\\soup_items.xlsx\")\n",
    "soups"
   ]
  },
  {
   "cell_type": "code",
   "execution_count": 7,
   "id": "710e5a96",
   "metadata": {},
   "outputs": [
    {
     "data": {
      "text/plain": [
       "Taste\n",
       "average    1\n",
       "good       2\n",
       "super      2\n",
       "Name: soup items, dtype: int64"
      ]
     },
     "execution_count": 7,
     "metadata": {},
     "output_type": "execute_result"
    }
   ],
   "source": [
    "soups.groupby('Taste')['soup items'].count()"
   ]
  },
  {
   "cell_type": "code",
   "execution_count": 8,
   "id": "1530ab32",
   "metadata": {},
   "outputs": [
    {
     "data": {
      "text/html": [
       "<div>\n",
       "<style scoped>\n",
       "    .dataframe tbody tr th:only-of-type {\n",
       "        vertical-align: middle;\n",
       "    }\n",
       "\n",
       "    .dataframe tbody tr th {\n",
       "        vertical-align: top;\n",
       "    }\n",
       "\n",
       "    .dataframe thead th {\n",
       "        text-align: right;\n",
       "    }\n",
       "</style>\n",
       "<table border=\"1\" class=\"dataframe\">\n",
       "  <thead>\n",
       "    <tr style=\"text-align: right;\">\n",
       "      <th></th>\n",
       "      <th>Fry items</th>\n",
       "      <th>Taste</th>\n",
       "    </tr>\n",
       "  </thead>\n",
       "  <tbody>\n",
       "    <tr>\n",
       "      <th>0</th>\n",
       "      <td>chicken fry</td>\n",
       "      <td>super</td>\n",
       "    </tr>\n",
       "    <tr>\n",
       "      <th>1</th>\n",
       "      <td>fish fry</td>\n",
       "      <td>good</td>\n",
       "    </tr>\n",
       "    <tr>\n",
       "      <th>2</th>\n",
       "      <td>france fry</td>\n",
       "      <td>super</td>\n",
       "    </tr>\n",
       "    <tr>\n",
       "      <th>3</th>\n",
       "      <td>egg fry</td>\n",
       "      <td>average</td>\n",
       "    </tr>\n",
       "    <tr>\n",
       "      <th>4</th>\n",
       "      <td>potato fry</td>\n",
       "      <td>good</td>\n",
       "    </tr>\n",
       "  </tbody>\n",
       "</table>\n",
       "</div>"
      ],
      "text/plain": [
       "     Fry items    Taste\n",
       "0  chicken fry    super\n",
       "1     fish fry     good\n",
       "2   france fry    super\n",
       "3      egg fry  average\n",
       "4   potato fry     good"
      ]
     },
     "execution_count": 8,
     "metadata": {},
     "output_type": "execute_result"
    }
   ],
   "source": [
    "import pandas\n",
    "import pandas as pd\n",
    "fry=pd.read_excel(r\"D:\\Bujji\\soup_items.xlsx\",sheet_name='Sheet2')\n",
    "fry"
   ]
  },
  {
   "cell_type": "code",
   "execution_count": 9,
   "id": "ab476dfb",
   "metadata": {},
   "outputs": [
    {
     "data": {
      "text/plain": [
       "Taste\n",
       "average    1\n",
       "good       2\n",
       "super      2\n",
       "Name: Fry items, dtype: int64"
      ]
     },
     "execution_count": 9,
     "metadata": {},
     "output_type": "execute_result"
    }
   ],
   "source": [
    "fry.groupby('Taste')['Fry items'].count()"
   ]
  },
  {
   "cell_type": "code",
   "execution_count": null,
   "id": "0438a963",
   "metadata": {},
   "outputs": [],
   "source": [
    "#Q6>Create and import file\n",
    "#1. Create a Chicken related chicken_items.xlsx file and import file in spyder (atleast 5 names, columns are NonVegFoodName*Taste)\n",
    "#2. Summarize data by taste wise no.of fooditems.\n",
    "#3. Create a mutton related mutton_items.xlsx file and import file in spyder (atleast 5 names, columns are NonVegFoodName*Taste)\n",
    "#4. Summarize data by taste wise no.of fooditems.\n"
   ]
  },
  {
   "cell_type": "code",
   "execution_count": 10,
   "id": "2c26e9e2",
   "metadata": {},
   "outputs": [
    {
     "data": {
      "text/html": [
       "<div>\n",
       "<style scoped>\n",
       "    .dataframe tbody tr th:only-of-type {\n",
       "        vertical-align: middle;\n",
       "    }\n",
       "\n",
       "    .dataframe tbody tr th {\n",
       "        vertical-align: top;\n",
       "    }\n",
       "\n",
       "    .dataframe thead th {\n",
       "        text-align: right;\n",
       "    }\n",
       "</style>\n",
       "<table border=\"1\" class=\"dataframe\">\n",
       "  <thead>\n",
       "    <tr style=\"text-align: right;\">\n",
       "      <th></th>\n",
       "      <th>chicken items</th>\n",
       "      <th>Taste</th>\n",
       "    </tr>\n",
       "  </thead>\n",
       "  <tbody>\n",
       "    <tr>\n",
       "      <th>0</th>\n",
       "      <td>chicken fry</td>\n",
       "      <td>super</td>\n",
       "    </tr>\n",
       "    <tr>\n",
       "      <th>1</th>\n",
       "      <td>chicken curry</td>\n",
       "      <td>good</td>\n",
       "    </tr>\n",
       "    <tr>\n",
       "      <th>2</th>\n",
       "      <td>chicken 65</td>\n",
       "      <td>average</td>\n",
       "    </tr>\n",
       "    <tr>\n",
       "      <th>3</th>\n",
       "      <td>chicken biryani</td>\n",
       "      <td>super</td>\n",
       "    </tr>\n",
       "    <tr>\n",
       "      <th>4</th>\n",
       "      <td>chicken kurma</td>\n",
       "      <td>good</td>\n",
       "    </tr>\n",
       "  </tbody>\n",
       "</table>\n",
       "</div>"
      ],
      "text/plain": [
       "     chicken items    Taste\n",
       "0      chicken fry    super\n",
       "1    chicken curry     good\n",
       "2       chicken 65  average\n",
       "3  chicken biryani    super\n",
       "4    chicken kurma     good"
      ]
     },
     "execution_count": 10,
     "metadata": {},
     "output_type": "execute_result"
    }
   ],
   "source": [
    "import pandas\n",
    "import pandas as pd\n",
    "chicken=pd.read_excel(r\"D:\\Bujji\\chicken items.xlsx\")\n",
    "chicken"
   ]
  },
  {
   "cell_type": "code",
   "execution_count": 11,
   "id": "8b36fa91",
   "metadata": {},
   "outputs": [
    {
     "data": {
      "text/plain": [
       "Taste\n",
       "average    1\n",
       "good       2\n",
       "super      2\n",
       "Name: chicken items, dtype: int64"
      ]
     },
     "execution_count": 11,
     "metadata": {},
     "output_type": "execute_result"
    }
   ],
   "source": [
    "chicken.groupby('Taste')['chicken items'].count()"
   ]
  },
  {
   "cell_type": "code",
   "execution_count": 12,
   "id": "edb35bb1",
   "metadata": {},
   "outputs": [
    {
     "data": {
      "text/html": [
       "<div>\n",
       "<style scoped>\n",
       "    .dataframe tbody tr th:only-of-type {\n",
       "        vertical-align: middle;\n",
       "    }\n",
       "\n",
       "    .dataframe tbody tr th {\n",
       "        vertical-align: top;\n",
       "    }\n",
       "\n",
       "    .dataframe thead th {\n",
       "        text-align: right;\n",
       "    }\n",
       "</style>\n",
       "<table border=\"1\" class=\"dataframe\">\n",
       "  <thead>\n",
       "    <tr style=\"text-align: right;\">\n",
       "      <th></th>\n",
       "      <th>Mutton items</th>\n",
       "      <th>Taste</th>\n",
       "    </tr>\n",
       "  </thead>\n",
       "  <tbody>\n",
       "    <tr>\n",
       "      <th>0</th>\n",
       "      <td>mutton curry</td>\n",
       "      <td>average</td>\n",
       "    </tr>\n",
       "    <tr>\n",
       "      <th>1</th>\n",
       "      <td>mutton soup</td>\n",
       "      <td>good</td>\n",
       "    </tr>\n",
       "    <tr>\n",
       "      <th>2</th>\n",
       "      <td>mutton tikka</td>\n",
       "      <td>average</td>\n",
       "    </tr>\n",
       "    <tr>\n",
       "      <th>3</th>\n",
       "      <td>mutton biryani</td>\n",
       "      <td>super</td>\n",
       "    </tr>\n",
       "    <tr>\n",
       "      <th>4</th>\n",
       "      <td>mutton fry</td>\n",
       "      <td>good</td>\n",
       "    </tr>\n",
       "  </tbody>\n",
       "</table>\n",
       "</div>"
      ],
      "text/plain": [
       "     Mutton items    Taste\n",
       "0    mutton curry  average\n",
       "1     mutton soup     good\n",
       "2    mutton tikka  average\n",
       "3  mutton biryani    super\n",
       "4      mutton fry     good"
      ]
     },
     "execution_count": 12,
     "metadata": {},
     "output_type": "execute_result"
    }
   ],
   "source": [
    "mutton=pd.read_excel(r\"D:\\Bujji\\chicken items.xlsx\",sheet_name='Sheet2')\n",
    "mutton"
   ]
  },
  {
   "cell_type": "code",
   "execution_count": 14,
   "id": "6a15c63e",
   "metadata": {},
   "outputs": [
    {
     "data": {
      "text/plain": [
       "Taste\n",
       "average    2\n",
       "good       2\n",
       "super      1\n",
       "Name: Mutton items, dtype: int64"
      ]
     },
     "execution_count": 14,
     "metadata": {},
     "output_type": "execute_result"
    }
   ],
   "source": [
    "mutton.groupby('Taste')['Mutton items'].count()"
   ]
  },
  {
   "cell_type": "code",
   "execution_count": null,
   "id": "e3c150a9",
   "metadata": {},
   "outputs": [],
   "source": [
    "#Q7>Create and import file\n",
    "#1. Create a red colour flowers redflowers_names.xlsx file and import file in spyder   (atleast 3 names, columns are FlowerName*color)\n",
    "#2. Summarize data by color wise no.of flowers.\n",
    "#3. Create a white colour flowers whiteflowers_names.xlsx file  and import file in spyder  (atleast 3 names, columns are FlowerName*color)\n",
    "#4. Summarize data by color wise no.of flowers.\n",
    "#5. Create a pink colour flowers whiteflowers_names.xlsx file and import file in spyder   (atleast 3 names, columns are FlowerName*color)\n",
    "#6. Summarize data by color wise no.of flowers.\n",
    "#7. Create a yellow colour flowers whiteflowers_names.xlsx file and import file in spyder   (atleast 3 names, columns are FlowerName*color)\n",
    "#8. Summarize data by color wise no.of flowers.\n"
   ]
  },
  {
   "cell_type": "code",
   "execution_count": 15,
   "id": "a81c29f1",
   "metadata": {},
   "outputs": [
    {
     "data": {
      "text/html": [
       "<div>\n",
       "<style scoped>\n",
       "    .dataframe tbody tr th:only-of-type {\n",
       "        vertical-align: middle;\n",
       "    }\n",
       "\n",
       "    .dataframe tbody tr th {\n",
       "        vertical-align: top;\n",
       "    }\n",
       "\n",
       "    .dataframe thead th {\n",
       "        text-align: right;\n",
       "    }\n",
       "</style>\n",
       "<table border=\"1\" class=\"dataframe\">\n",
       "  <thead>\n",
       "    <tr style=\"text-align: right;\">\n",
       "      <th></th>\n",
       "      <th>Flower names</th>\n",
       "      <th>colour</th>\n",
       "    </tr>\n",
       "  </thead>\n",
       "  <tbody>\n",
       "    <tr>\n",
       "      <th>0</th>\n",
       "      <td>rose</td>\n",
       "      <td>red</td>\n",
       "    </tr>\n",
       "    <tr>\n",
       "      <th>1</th>\n",
       "      <td>mandaram</td>\n",
       "      <td>red</td>\n",
       "    </tr>\n",
       "    <tr>\n",
       "      <th>2</th>\n",
       "      <td>kanakaram</td>\n",
       "      <td>red</td>\n",
       "    </tr>\n",
       "    <tr>\n",
       "      <th>3</th>\n",
       "      <td>tulips</td>\n",
       "      <td>red</td>\n",
       "    </tr>\n",
       "  </tbody>\n",
       "</table>\n",
       "</div>"
      ],
      "text/plain": [
       "  Flower names colour\n",
       "0         rose    red\n",
       "1     mandaram    red\n",
       "2    kanakaram    red\n",
       "3       tulips    red"
      ]
     },
     "execution_count": 15,
     "metadata": {},
     "output_type": "execute_result"
    }
   ],
   "source": [
    "import pandas\n",
    "import pandas as pd\n",
    "red=pd.read_excel(r\"D:\\Bujji\\colour_names.xlsx\",sheet_name='Sheet4')\n",
    "red"
   ]
  },
  {
   "cell_type": "code",
   "execution_count": 33,
   "id": "dbb25cc9",
   "metadata": {},
   "outputs": [
    {
     "data": {
      "text/html": [
       "<div>\n",
       "<style scoped>\n",
       "    .dataframe tbody tr th:only-of-type {\n",
       "        vertical-align: middle;\n",
       "    }\n",
       "\n",
       "    .dataframe tbody tr th {\n",
       "        vertical-align: top;\n",
       "    }\n",
       "\n",
       "    .dataframe thead th {\n",
       "        text-align: right;\n",
       "    }\n",
       "</style>\n",
       "<table border=\"1\" class=\"dataframe\">\n",
       "  <thead>\n",
       "    <tr style=\"text-align: right;\">\n",
       "      <th></th>\n",
       "      <th>Flower names</th>\n",
       "    </tr>\n",
       "    <tr>\n",
       "      <th>colour</th>\n",
       "      <th></th>\n",
       "    </tr>\n",
       "  </thead>\n",
       "  <tbody>\n",
       "    <tr>\n",
       "      <th>red</th>\n",
       "      <td>4</td>\n",
       "    </tr>\n",
       "  </tbody>\n",
       "</table>\n",
       "</div>"
      ],
      "text/plain": [
       "        Flower names\n",
       "colour              \n",
       "red                4"
      ]
     },
     "execution_count": 33,
     "metadata": {},
     "output_type": "execute_result"
    }
   ],
   "source": [
    "red.groupby(\"colour\")['Flower names'].count()"
   ]
  },
  {
   "cell_type": "code",
   "execution_count": 16,
   "id": "388c1a08",
   "metadata": {},
   "outputs": [
    {
     "data": {
      "text/html": [
       "<div>\n",
       "<style scoped>\n",
       "    .dataframe tbody tr th:only-of-type {\n",
       "        vertical-align: middle;\n",
       "    }\n",
       "\n",
       "    .dataframe tbody tr th {\n",
       "        vertical-align: top;\n",
       "    }\n",
       "\n",
       "    .dataframe thead th {\n",
       "        text-align: right;\n",
       "    }\n",
       "</style>\n",
       "<table border=\"1\" class=\"dataframe\">\n",
       "  <thead>\n",
       "    <tr style=\"text-align: right;\">\n",
       "      <th></th>\n",
       "      <th>Flower names</th>\n",
       "      <th>colour</th>\n",
       "    </tr>\n",
       "  </thead>\n",
       "  <tbody>\n",
       "    <tr>\n",
       "      <th>0</th>\n",
       "      <td>rose</td>\n",
       "      <td>white</td>\n",
       "    </tr>\n",
       "    <tr>\n",
       "      <th>1</th>\n",
       "      <td>lilly</td>\n",
       "      <td>white</td>\n",
       "    </tr>\n",
       "    <tr>\n",
       "      <th>2</th>\n",
       "      <td>ganneru</td>\n",
       "      <td>white</td>\n",
       "    </tr>\n",
       "  </tbody>\n",
       "</table>\n",
       "</div>"
      ],
      "text/plain": [
       "  Flower names colour\n",
       "0         rose  white\n",
       "1        lilly  white\n",
       "2      ganneru  white"
      ]
     },
     "execution_count": 16,
     "metadata": {},
     "output_type": "execute_result"
    }
   ],
   "source": [
    "import pandas\n",
    "import pandas as pd\n",
    "white=pd.read_excel(r\"D:\\Bujji\\colour_names.xlsx\",sheet_name='Sheet3')\n",
    "white"
   ]
  },
  {
   "cell_type": "code",
   "execution_count": 17,
   "id": "2b068bc6",
   "metadata": {},
   "outputs": [
    {
     "data": {
      "text/plain": [
       "colour\n",
       "white    3\n",
       "Name: Flower names, dtype: int64"
      ]
     },
     "execution_count": 17,
     "metadata": {},
     "output_type": "execute_result"
    }
   ],
   "source": [
    "white.groupby('colour')['Flower names'].count()"
   ]
  },
  {
   "cell_type": "code",
   "execution_count": 18,
   "id": "6ba2082d",
   "metadata": {},
   "outputs": [
    {
     "data": {
      "text/html": [
       "<div>\n",
       "<style scoped>\n",
       "    .dataframe tbody tr th:only-of-type {\n",
       "        vertical-align: middle;\n",
       "    }\n",
       "\n",
       "    .dataframe tbody tr th {\n",
       "        vertical-align: top;\n",
       "    }\n",
       "\n",
       "    .dataframe thead th {\n",
       "        text-align: right;\n",
       "    }\n",
       "</style>\n",
       "<table border=\"1\" class=\"dataframe\">\n",
       "  <thead>\n",
       "    <tr style=\"text-align: right;\">\n",
       "      <th></th>\n",
       "      <th>Flower names</th>\n",
       "      <th>colour</th>\n",
       "    </tr>\n",
       "  </thead>\n",
       "  <tbody>\n",
       "    <tr>\n",
       "      <th>0</th>\n",
       "      <td>rose</td>\n",
       "      <td>pink</td>\n",
       "    </tr>\n",
       "    <tr>\n",
       "      <th>1</th>\n",
       "      <td>ganneru</td>\n",
       "      <td>pink</td>\n",
       "    </tr>\n",
       "    <tr>\n",
       "      <th>2</th>\n",
       "      <td>mandaram</td>\n",
       "      <td>pink</td>\n",
       "    </tr>\n",
       "    <tr>\n",
       "      <th>3</th>\n",
       "      <td>chamanthi</td>\n",
       "      <td>pink</td>\n",
       "    </tr>\n",
       "  </tbody>\n",
       "</table>\n",
       "</div>"
      ],
      "text/plain": [
       "  Flower names colour\n",
       "0         rose   pink\n",
       "1      ganneru   pink\n",
       "2     mandaram   pink\n",
       "3    chamanthi   pink"
      ]
     },
     "execution_count": 18,
     "metadata": {},
     "output_type": "execute_result"
    }
   ],
   "source": [
    "import pandas\n",
    "import pandas as pd\n",
    "pink=pd.read_excel(r\"D:\\Bujji\\colour_names.xlsx\",sheet_name='Sheet2')\n",
    "pink"
   ]
  },
  {
   "cell_type": "code",
   "execution_count": 19,
   "id": "38cc736a",
   "metadata": {},
   "outputs": [
    {
     "data": {
      "text/plain": [
       "colour\n",
       "pink    4\n",
       "Name: Flower names, dtype: int64"
      ]
     },
     "execution_count": 19,
     "metadata": {},
     "output_type": "execute_result"
    }
   ],
   "source": [
    "pink.groupby('colour')['Flower names'].count()"
   ]
  },
  {
   "cell_type": "code",
   "execution_count": 20,
   "id": "33ddcac6",
   "metadata": {},
   "outputs": [
    {
     "data": {
      "text/html": [
       "<div>\n",
       "<style scoped>\n",
       "    .dataframe tbody tr th:only-of-type {\n",
       "        vertical-align: middle;\n",
       "    }\n",
       "\n",
       "    .dataframe tbody tr th {\n",
       "        vertical-align: top;\n",
       "    }\n",
       "\n",
       "    .dataframe thead th {\n",
       "        text-align: right;\n",
       "    }\n",
       "</style>\n",
       "<table border=\"1\" class=\"dataframe\">\n",
       "  <thead>\n",
       "    <tr style=\"text-align: right;\">\n",
       "      <th></th>\n",
       "      <th>Flower names</th>\n",
       "      <th>colour</th>\n",
       "    </tr>\n",
       "  </thead>\n",
       "  <tbody>\n",
       "    <tr>\n",
       "      <th>0</th>\n",
       "      <td>chamanti</td>\n",
       "      <td>yellow</td>\n",
       "    </tr>\n",
       "    <tr>\n",
       "      <th>1</th>\n",
       "      <td>marry gold</td>\n",
       "      <td>yellow</td>\n",
       "    </tr>\n",
       "    <tr>\n",
       "      <th>2</th>\n",
       "      <td>rose</td>\n",
       "      <td>yellow</td>\n",
       "    </tr>\n",
       "    <tr>\n",
       "      <th>3</th>\n",
       "      <td>kanakambaram</td>\n",
       "      <td>yellow</td>\n",
       "    </tr>\n",
       "  </tbody>\n",
       "</table>\n",
       "</div>"
      ],
      "text/plain": [
       "   Flower names  colour\n",
       "0      chamanti  yellow\n",
       "1    marry gold  yellow\n",
       "2          rose  yellow\n",
       "3  kanakambaram  yellow"
      ]
     },
     "execution_count": 20,
     "metadata": {},
     "output_type": "execute_result"
    }
   ],
   "source": [
    "import pandas\n",
    "import pandas as pd\n",
    "yellow=pd.read_excel(r\"D:\\Bujji\\colour_names.xlsx\")\n",
    "yellow"
   ]
  },
  {
   "cell_type": "code",
   "execution_count": 21,
   "id": "68354cdd",
   "metadata": {},
   "outputs": [
    {
     "data": {
      "text/plain": [
       "colour\n",
       "yellow    4\n",
       "Name: Flower names, dtype: int64"
      ]
     },
     "execution_count": 21,
     "metadata": {},
     "output_type": "execute_result"
    }
   ],
   "source": [
    "yellow.groupby('colour')['Flower names'].count()"
   ]
  },
  {
   "cell_type": "code",
   "execution_count": null,
   "id": "33927489",
   "metadata": {},
   "outputs": [],
   "source": []
  }
 ],
 "metadata": {
  "kernelspec": {
   "display_name": "Python 3 (ipykernel)",
   "language": "python",
   "name": "python3"
  },
  "language_info": {
   "codemirror_mode": {
    "name": "ipython",
    "version": 3
   },
   "file_extension": ".py",
   "mimetype": "text/x-python",
   "name": "python",
   "nbconvert_exporter": "python",
   "pygments_lexer": "ipython3",
   "version": "3.9.12"
  }
 },
 "nbformat": 4,
 "nbformat_minor": 5
}
